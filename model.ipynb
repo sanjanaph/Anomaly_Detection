{
 "cells": [
  {
   "cell_type": "code",
   "execution_count": 25,
   "id": "1fb34975",
   "metadata": {},
   "outputs": [],
   "source": [
    "import pandas as pd\n",
    "from sklearn.model_selection import train_test_split\n",
    "from sklearn.preprocessing import LabelEncoder\n",
    "from sklearn.ensemble import RandomForestClassifier\n",
    "from sklearn.model_selection import cross_val_score\n",
    "import numpy as np\n",
    "from sklearn.metrics import classification_report\n",
    "from sklearn.ensemble import IsolationForest\n",
    "from sklearn.metrics import accuracy_score\n",
    "\n"
   ]
  },
  {
   "cell_type": "code",
   "execution_count": 3,
   "id": "237bd933",
   "metadata": {},
   "outputs": [
    {
     "data": {
      "text/html": [
       "<div>\n",
       "<style scoped>\n",
       "    .dataframe tbody tr th:only-of-type {\n",
       "        vertical-align: middle;\n",
       "    }\n",
       "\n",
       "    .dataframe tbody tr th {\n",
       "        vertical-align: top;\n",
       "    }\n",
       "\n",
       "    .dataframe thead th {\n",
       "        text-align: right;\n",
       "    }\n",
       "</style>\n",
       "<table border=\"1\" class=\"dataframe\">\n",
       "  <thead>\n",
       "    <tr style=\"text-align: right;\">\n",
       "      <th></th>\n",
       "      <th>#</th>\n",
       "      <th>userid</th>\n",
       "      <th>formatteddisplayname</th>\n",
       "      <th>email</th>\n",
       "      <th>npi</th>\n",
       "      <th>user region</th>\n",
       "      <th>associationtype</th>\n",
       "      <th>rolename</th>\n",
       "      <th>organizationid</th>\n",
       "      <th>caseid</th>\n",
       "      <th>...</th>\n",
       "      <th>audittype</th>\n",
       "      <th>accountid</th>\n",
       "      <th>displayname</th>\n",
       "      <th>facility state</th>\n",
       "      <th>status</th>\n",
       "      <th>orgid</th>\n",
       "      <th>organizationname</th>\n",
       "      <th>city</th>\n",
       "      <th>fraud</th>\n",
       "      <th>fraud_reason</th>\n",
       "    </tr>\n",
       "  </thead>\n",
       "  <tbody>\n",
       "    <tr>\n",
       "      <th>0</th>\n",
       "      <td>1</td>\n",
       "      <td>22890000</td>\n",
       "      <td>Hellen Kuria</td>\n",
       "      <td>hellenkuria@example.com</td>\n",
       "      <td>UNKNOWN</td>\n",
       "      <td>US</td>\n",
       "      <td>Ordering Facility</td>\n",
       "      <td>Pathologist Assistant</td>\n",
       "      <td>15000</td>\n",
       "      <td>8200000</td>\n",
       "      <td>...</td>\n",
       "      <td>Cases</td>\n",
       "      <td>50000</td>\n",
       "      <td>Organization 1</td>\n",
       "      <td>MA</td>\n",
       "      <td>active</td>\n",
       "      <td>15000</td>\n",
       "      <td>Leominster Dermatology, LLP</td>\n",
       "      <td>Hudson</td>\n",
       "      <td>0</td>\n",
       "      <td>NaN</td>\n",
       "    </tr>\n",
       "    <tr>\n",
       "      <th>1</th>\n",
       "      <td>2</td>\n",
       "      <td>22890000</td>\n",
       "      <td>Hellen Kuria</td>\n",
       "      <td>hellenkuria@example.com</td>\n",
       "      <td>UNKNOWN</td>\n",
       "      <td>US</td>\n",
       "      <td>Ordering Facility</td>\n",
       "      <td>Pathologist Assistant</td>\n",
       "      <td>15000</td>\n",
       "      <td>8200000</td>\n",
       "      <td>...</td>\n",
       "      <td>Cases</td>\n",
       "      <td>50000</td>\n",
       "      <td>Organization 1</td>\n",
       "      <td>MA</td>\n",
       "      <td>active</td>\n",
       "      <td>15000</td>\n",
       "      <td>Leominster Dermatology, LLP</td>\n",
       "      <td>Hudson</td>\n",
       "      <td>0</td>\n",
       "      <td>NaN</td>\n",
       "    </tr>\n",
       "    <tr>\n",
       "      <th>2</th>\n",
       "      <td>3</td>\n",
       "      <td>22890000</td>\n",
       "      <td>Hellen Kuria</td>\n",
       "      <td>hellenkuria@example.com</td>\n",
       "      <td>UNKNOWN</td>\n",
       "      <td>US</td>\n",
       "      <td>Ordering Facility</td>\n",
       "      <td>Pathologist Assistant</td>\n",
       "      <td>15000</td>\n",
       "      <td>8200000</td>\n",
       "      <td>...</td>\n",
       "      <td>Cases</td>\n",
       "      <td>50000</td>\n",
       "      <td>Organization 1</td>\n",
       "      <td>MA</td>\n",
       "      <td>active</td>\n",
       "      <td>15000</td>\n",
       "      <td>Leominster Dermatology, LLP</td>\n",
       "      <td>Hudson</td>\n",
       "      <td>1</td>\n",
       "      <td>Timeline anomaly: future or illogical audit date</td>\n",
       "    </tr>\n",
       "    <tr>\n",
       "      <th>3</th>\n",
       "      <td>4</td>\n",
       "      <td>22890000</td>\n",
       "      <td>Hellen Kuria</td>\n",
       "      <td>hellenkuria@example.com</td>\n",
       "      <td>UNKNOWN</td>\n",
       "      <td>US</td>\n",
       "      <td>Ordering Facility</td>\n",
       "      <td>Pathologist Assistant</td>\n",
       "      <td>15000</td>\n",
       "      <td>8200000</td>\n",
       "      <td>...</td>\n",
       "      <td>Cases</td>\n",
       "      <td>50000</td>\n",
       "      <td>Organization 1</td>\n",
       "      <td>MA</td>\n",
       "      <td>active</td>\n",
       "      <td>15000</td>\n",
       "      <td>Leominster Dermatology, LLP</td>\n",
       "      <td>Hudson</td>\n",
       "      <td>1</td>\n",
       "      <td>Numeric anomaly: abnormal timetaken</td>\n",
       "    </tr>\n",
       "    <tr>\n",
       "      <th>4</th>\n",
       "      <td>5</td>\n",
       "      <td>22890000</td>\n",
       "      <td>Hellen Kuria</td>\n",
       "      <td>hellenkuria@example.com</td>\n",
       "      <td>UNKNOWN</td>\n",
       "      <td>US</td>\n",
       "      <td>Ordering Facility</td>\n",
       "      <td>Pathologist Assistant</td>\n",
       "      <td>15000</td>\n",
       "      <td>8200000</td>\n",
       "      <td>...</td>\n",
       "      <td>Cases</td>\n",
       "      <td>50000</td>\n",
       "      <td>Organization 1</td>\n",
       "      <td>MA</td>\n",
       "      <td>active</td>\n",
       "      <td>15000</td>\n",
       "      <td>Leominster Dermatology, LLP</td>\n",
       "      <td>Hudson</td>\n",
       "      <td>0</td>\n",
       "      <td>NaN</td>\n",
       "    </tr>\n",
       "  </tbody>\n",
       "</table>\n",
       "<p>5 rows × 26 columns</p>\n",
       "</div>"
      ],
      "text/plain": [
       "   #    userid formatteddisplayname                    email      npi  \\\n",
       "0  1  22890000         Hellen Kuria  hellenkuria@example.com  UNKNOWN   \n",
       "1  2  22890000         Hellen Kuria  hellenkuria@example.com  UNKNOWN   \n",
       "2  3  22890000         Hellen Kuria  hellenkuria@example.com  UNKNOWN   \n",
       "3  4  22890000         Hellen Kuria  hellenkuria@example.com  UNKNOWN   \n",
       "4  5  22890000         Hellen Kuria  hellenkuria@example.com  UNKNOWN   \n",
       "\n",
       "  user region    associationtype               rolename  organizationid  \\\n",
       "0          US  Ordering Facility  Pathologist Assistant           15000   \n",
       "1          US  Ordering Facility  Pathologist Assistant           15000   \n",
       "2          US  Ordering Facility  Pathologist Assistant           15000   \n",
       "3          US  Ordering Facility  Pathologist Assistant           15000   \n",
       "4          US  Ordering Facility  Pathologist Assistant           15000   \n",
       "\n",
       "    caseid  ...  audittype accountid     displayname  facility state  status  \\\n",
       "0  8200000  ...      Cases     50000  Organization 1              MA  active   \n",
       "1  8200000  ...      Cases     50000  Organization 1              MA  active   \n",
       "2  8200000  ...      Cases     50000  Organization 1              MA  active   \n",
       "3  8200000  ...      Cases     50000  Organization 1              MA  active   \n",
       "4  8200000  ...      Cases     50000  Organization 1              MA  active   \n",
       "\n",
       "   orgid             organizationname    city fraud  \\\n",
       "0  15000  Leominster Dermatology, LLP  Hudson     0   \n",
       "1  15000  Leominster Dermatology, LLP  Hudson     0   \n",
       "2  15000  Leominster Dermatology, LLP  Hudson     1   \n",
       "3  15000  Leominster Dermatology, LLP  Hudson     1   \n",
       "4  15000  Leominster Dermatology, LLP  Hudson     0   \n",
       "\n",
       "                                       fraud_reason  \n",
       "0                                               NaN  \n",
       "1                                               NaN  \n",
       "2  Timeline anomaly: future or illogical audit date  \n",
       "3               Numeric anomaly: abnormal timetaken  \n",
       "4                                               NaN  \n",
       "\n",
       "[5 rows x 26 columns]"
      ]
     },
     "execution_count": 3,
     "metadata": {},
     "output_type": "execute_result"
    }
   ],
   "source": [
    "df = pd.read_excel(r\"C:\\Users\\Hp\\anomaly_detection\\Updated_Synthetic_Caseauditdetails.xlsx\")\n",
    "df.head()"
   ]
  },
  {
   "cell_type": "code",
   "execution_count": 4,
   "id": "7734204e",
   "metadata": {},
   "outputs": [
    {
     "name": "stdout",
     "output_type": "stream",
     "text": [
      "<class 'pandas.core.frame.DataFrame'>\n",
      "RangeIndex: 1200 entries, 0 to 1199\n",
      "Data columns (total 26 columns):\n",
      " #   Column                Non-Null Count  Dtype \n",
      "---  ------                --------------  ----- \n",
      " 0   #                     1200 non-null   int64 \n",
      " 1   userid                1200 non-null   int64 \n",
      " 2   formatteddisplayname  1200 non-null   object\n",
      " 3   email                 1200 non-null   object\n",
      " 4   npi                   1200 non-null   object\n",
      " 5   user region           1200 non-null   object\n",
      " 6   associationtype       1200 non-null   object\n",
      " 7   rolename              1200 non-null   object\n",
      " 8   organizationid        1200 non-null   int64 \n",
      " 9   caseid                1200 non-null   int64 \n",
      " 10  auditid               1200 non-null   int64 \n",
      " 11  actionperformed       1200 non-null   object\n",
      " 12  actiondetails         1200 non-null   object\n",
      " 13  timetaken             1200 non-null   int64 \n",
      " 14  auditdate             1200 non-null   object\n",
      " 15  casestatus            1200 non-null   object\n",
      " 16  audittype             1200 non-null   object\n",
      " 17  accountid             1200 non-null   int64 \n",
      " 18  displayname           1200 non-null   object\n",
      " 19  facility state        1200 non-null   object\n",
      " 20  status                1200 non-null   object\n",
      " 21  orgid                 1200 non-null   int64 \n",
      " 22  organizationname      1200 non-null   object\n",
      " 23  city                  1200 non-null   object\n",
      " 24  fraud                 1200 non-null   int64 \n",
      " 25  fraud_reason          480 non-null    object\n",
      "dtypes: int64(9), object(17)\n",
      "memory usage: 243.9+ KB\n"
     ]
    }
   ],
   "source": [
    "df.info()"
   ]
  },
  {
   "cell_type": "code",
   "execution_count": 5,
   "id": "4eb81787",
   "metadata": {},
   "outputs": [
    {
     "data": {
      "text/plain": [
       "Index(['#', 'userid', 'formatteddisplayname', 'email', 'npi', 'user region',\n",
       "       'associationtype', 'rolename', 'organizationid', 'caseid', 'auditid',\n",
       "       'actionperformed', 'actiondetails', 'timetaken', 'auditdate',\n",
       "       'casestatus', 'audittype', 'accountid', 'displayname', 'facility state',\n",
       "       'status', 'orgid', 'organizationname', 'city', 'fraud', 'fraud_reason'],\n",
       "      dtype='object')"
      ]
     },
     "execution_count": 5,
     "metadata": {},
     "output_type": "execute_result"
    }
   ],
   "source": [
    "df.columns"
   ]
  },
  {
   "cell_type": "code",
   "execution_count": 6,
   "id": "4f71644a",
   "metadata": {},
   "outputs": [],
   "source": [
    "# columns to drop\n",
    "df = df.drop(['#', 'organizationid','accountid','displayname','orgid','fraud_reason'], axis=1)"
   ]
  },
  {
   "cell_type": "code",
   "execution_count": 7,
   "id": "7bbfe9c5",
   "metadata": {},
   "outputs": [
    {
     "name": "stdout",
     "output_type": "stream",
     "text": [
      "userid                  0\n",
      "formatteddisplayname    0\n",
      "email                   0\n",
      "npi                     0\n",
      "user region             0\n",
      "associationtype         0\n",
      "rolename                0\n",
      "caseid                  0\n",
      "auditid                 0\n",
      "actionperformed         0\n",
      "actiondetails           0\n",
      "timetaken               0\n",
      "auditdate               0\n",
      "casestatus              0\n",
      "audittype               0\n",
      "facility state          0\n",
      "status                  0\n",
      "organizationname        0\n",
      "city                    0\n",
      "fraud                   0\n",
      "dtype: int64\n"
     ]
    }
   ],
   "source": [
    "# Check for missing values\n",
    "missing_values = df.isnull().sum()\n",
    "print(missing_values)"
   ]
  },
  {
   "cell_type": "code",
   "execution_count": 8,
   "id": "3f664604",
   "metadata": {},
   "outputs": [
    {
     "name": "stdout",
     "output_type": "stream",
     "text": [
      "Numerical columns: ['userid', 'caseid', 'auditid', 'timetaken', 'fraud']\n",
      "Categorical columns: ['formatteddisplayname', 'email', 'npi', 'user region', 'associationtype', 'rolename', 'actionperformed', 'actiondetails', 'auditdate', 'casestatus', 'audittype', 'facility state', 'status', 'organizationname', 'city']\n"
     ]
    }
   ],
   "source": [
    "import pandas as pd\n",
    "\n",
    "# Assuming df is your DataFrame\n",
    "numerical_cols = df.select_dtypes(include=['int64', 'float64']).columns.tolist()\n",
    "categorical_cols = df.select_dtypes(include=['object', 'category']).columns.tolist()\n",
    "\n",
    "print(\"Numerical columns:\", numerical_cols)\n",
    "print(\"Categorical columns:\", categorical_cols)\n"
   ]
  },
  {
   "cell_type": "code",
   "execution_count": 9,
   "id": "028a37fd",
   "metadata": {},
   "outputs": [],
   "source": [
    "X = df.drop(['userid','caseid','auditid','fraud'], axis = 1)\n",
    "y = df['fraud']"
   ]
  },
  {
   "cell_type": "code",
   "execution_count": 10,
   "id": "c9421c8b",
   "metadata": {},
   "outputs": [],
   "source": [
    "X_train, X_test, y_train, y_test = train_test_split(X, y, test_size=0.3, random_state=42,stratify=y)\n"
   ]
  },
  {
   "cell_type": "code",
   "execution_count": 11,
   "id": "4fa4e59c",
   "metadata": {},
   "outputs": [
    {
     "data": {
      "text/plain": [
       "(840, 16)"
      ]
     },
     "execution_count": 11,
     "metadata": {},
     "output_type": "execute_result"
    }
   ],
   "source": [
    "X_train.shape"
   ]
  },
  {
   "cell_type": "code",
   "execution_count": 12,
   "id": "c466bfb1",
   "metadata": {},
   "outputs": [
    {
     "data": {
      "text/plain": [
       "(360, 16)"
      ]
     },
     "execution_count": 12,
     "metadata": {},
     "output_type": "execute_result"
    }
   ],
   "source": [
    "X_test.shape"
   ]
  },
  {
   "cell_type": "code",
   "execution_count": 13,
   "id": "ec04e6e7",
   "metadata": {},
   "outputs": [
    {
     "name": "stdout",
     "output_type": "stream",
     "text": [
      "Index(['formatteddisplayname', 'email', 'npi', 'user region',\n",
      "       'associationtype', 'rolename', 'actionperformed', 'actiondetails',\n",
      "       'auditdate', 'casestatus', 'audittype', 'facility state', 'status',\n",
      "       'organizationname', 'city'],\n",
      "      dtype='object')\n"
     ]
    }
   ],
   "source": [
    "# Encoding categorical variables using LabelEncoder \n",
    "categorical_cols = X_train.select_dtypes(include=['object']).columns\n",
    "print(categorical_cols)\n",
    "for col in categorical_cols:\n",
    "    le = LabelEncoder()\n",
    "    X_train[col] = le.fit_transform(X_train[col])"
   ]
  },
  {
   "cell_type": "code",
   "execution_count": 14,
   "id": "8953a620",
   "metadata": {},
   "outputs": [
    {
     "name": "stdout",
     "output_type": "stream",
     "text": [
      "fraud\n",
      "0    504\n",
      "1    336\n",
      "Name: count, dtype: int64\n"
     ]
    }
   ],
   "source": [
    "print(pd.Series(y_train).value_counts())"
   ]
  },
  {
   "cell_type": "code",
   "execution_count": 15,
   "id": "62933013",
   "metadata": {},
   "outputs": [
    {
     "name": "stdout",
     "output_type": "stream",
     "text": [
      "fraud\n",
      "0    216\n",
      "1    144\n",
      "Name: count, dtype: int64\n"
     ]
    }
   ],
   "source": [
    "print(pd.Series(y_test).value_counts())"
   ]
  },
  {
   "cell_type": "code",
   "execution_count": 16,
   "id": "49f23ad9",
   "metadata": {},
   "outputs": [],
   "source": [
    "rf_model = RandomForestClassifier(\n",
    "    n_estimators = 100,\n",
    "    max_depth = 10,\n",
    "    min_samples_split=5,\n",
    "    random_state=42\n",
    ")"
   ]
  },
  {
   "cell_type": "code",
   "execution_count": 17,
   "id": "7e323f7a",
   "metadata": {},
   "outputs": [
    {
     "name": "stdout",
     "output_type": "stream",
     "text": [
      "Cross-validation accuracies: [1.        1.        1.        1.        0.9924812]\n",
      "Mean accuracy: 0.9985 +/- 0.0030\n"
     ]
    }
   ],
   "source": [
    "cv_scores = cross_val_score(rf_model, X_train, y_train, cv=5, scoring='f1')\n",
    "print(f\"Cross-validation accuracies: {cv_scores}\")\n",
    "print(f\"Mean accuracy: {np.mean(cv_scores):.4f} +/- {np.std(cv_scores):.4f}\")"
   ]
  },
  {
   "cell_type": "code",
   "execution_count": 18,
   "id": "4d18b1ff",
   "metadata": {},
   "outputs": [
    {
     "data": {
      "text/html": [
       "<style>#sk-container-id-1 {color: black;}#sk-container-id-1 pre{padding: 0;}#sk-container-id-1 div.sk-toggleable {background-color: white;}#sk-container-id-1 label.sk-toggleable__label {cursor: pointer;display: block;width: 100%;margin-bottom: 0;padding: 0.3em;box-sizing: border-box;text-align: center;}#sk-container-id-1 label.sk-toggleable__label-arrow:before {content: \"▸\";float: left;margin-right: 0.25em;color: #696969;}#sk-container-id-1 label.sk-toggleable__label-arrow:hover:before {color: black;}#sk-container-id-1 div.sk-estimator:hover label.sk-toggleable__label-arrow:before {color: black;}#sk-container-id-1 div.sk-toggleable__content {max-height: 0;max-width: 0;overflow: hidden;text-align: left;background-color: #f0f8ff;}#sk-container-id-1 div.sk-toggleable__content pre {margin: 0.2em;color: black;border-radius: 0.25em;background-color: #f0f8ff;}#sk-container-id-1 input.sk-toggleable__control:checked~div.sk-toggleable__content {max-height: 200px;max-width: 100%;overflow: auto;}#sk-container-id-1 input.sk-toggleable__control:checked~label.sk-toggleable__label-arrow:before {content: \"▾\";}#sk-container-id-1 div.sk-estimator input.sk-toggleable__control:checked~label.sk-toggleable__label {background-color: #d4ebff;}#sk-container-id-1 div.sk-label input.sk-toggleable__control:checked~label.sk-toggleable__label {background-color: #d4ebff;}#sk-container-id-1 input.sk-hidden--visually {border: 0;clip: rect(1px 1px 1px 1px);clip: rect(1px, 1px, 1px, 1px);height: 1px;margin: -1px;overflow: hidden;padding: 0;position: absolute;width: 1px;}#sk-container-id-1 div.sk-estimator {font-family: monospace;background-color: #f0f8ff;border: 1px dotted black;border-radius: 0.25em;box-sizing: border-box;margin-bottom: 0.5em;}#sk-container-id-1 div.sk-estimator:hover {background-color: #d4ebff;}#sk-container-id-1 div.sk-parallel-item::after {content: \"\";width: 100%;border-bottom: 1px solid gray;flex-grow: 1;}#sk-container-id-1 div.sk-label:hover label.sk-toggleable__label {background-color: #d4ebff;}#sk-container-id-1 div.sk-serial::before {content: \"\";position: absolute;border-left: 1px solid gray;box-sizing: border-box;top: 0;bottom: 0;left: 50%;z-index: 0;}#sk-container-id-1 div.sk-serial {display: flex;flex-direction: column;align-items: center;background-color: white;padding-right: 0.2em;padding-left: 0.2em;position: relative;}#sk-container-id-1 div.sk-item {position: relative;z-index: 1;}#sk-container-id-1 div.sk-parallel {display: flex;align-items: stretch;justify-content: center;background-color: white;position: relative;}#sk-container-id-1 div.sk-item::before, #sk-container-id-1 div.sk-parallel-item::before {content: \"\";position: absolute;border-left: 1px solid gray;box-sizing: border-box;top: 0;bottom: 0;left: 50%;z-index: -1;}#sk-container-id-1 div.sk-parallel-item {display: flex;flex-direction: column;z-index: 1;position: relative;background-color: white;}#sk-container-id-1 div.sk-parallel-item:first-child::after {align-self: flex-end;width: 50%;}#sk-container-id-1 div.sk-parallel-item:last-child::after {align-self: flex-start;width: 50%;}#sk-container-id-1 div.sk-parallel-item:only-child::after {width: 0;}#sk-container-id-1 div.sk-dashed-wrapped {border: 1px dashed gray;margin: 0 0.4em 0.5em 0.4em;box-sizing: border-box;padding-bottom: 0.4em;background-color: white;}#sk-container-id-1 div.sk-label label {font-family: monospace;font-weight: bold;display: inline-block;line-height: 1.2em;}#sk-container-id-1 div.sk-label-container {text-align: center;}#sk-container-id-1 div.sk-container {/* jupyter's `normalize.less` sets `[hidden] { display: none; }` but bootstrap.min.css set `[hidden] { display: none !important; }` so we also need the `!important` here to be able to override the default hidden behavior on the sphinx rendered scikit-learn.org. See: https://github.com/scikit-learn/scikit-learn/issues/21755 */display: inline-block !important;position: relative;}#sk-container-id-1 div.sk-text-repr-fallback {display: none;}</style><div id=\"sk-container-id-1\" class=\"sk-top-container\"><div class=\"sk-text-repr-fallback\"><pre>RandomForestClassifier(max_depth=10, min_samples_split=5, random_state=42)</pre><b>In a Jupyter environment, please rerun this cell to show the HTML representation or trust the notebook. <br />On GitHub, the HTML representation is unable to render, please try loading this page with nbviewer.org.</b></div><div class=\"sk-container\" hidden><div class=\"sk-item\"><div class=\"sk-estimator sk-toggleable\"><input class=\"sk-toggleable__control sk-hidden--visually\" id=\"sk-estimator-id-1\" type=\"checkbox\" checked><label for=\"sk-estimator-id-1\" class=\"sk-toggleable__label sk-toggleable__label-arrow\">RandomForestClassifier</label><div class=\"sk-toggleable__content\"><pre>RandomForestClassifier(max_depth=10, min_samples_split=5, random_state=42)</pre></div></div></div></div></div>"
      ],
      "text/plain": [
       "RandomForestClassifier(max_depth=10, min_samples_split=5, random_state=42)"
      ]
     },
     "execution_count": 18,
     "metadata": {},
     "output_type": "execute_result"
    }
   ],
   "source": [
    "rf_model.fit(X_train, y_train)"
   ]
  },
  {
   "cell_type": "code",
   "execution_count": 19,
   "id": "1122a639",
   "metadata": {},
   "outputs": [
    {
     "name": "stdout",
     "output_type": "stream",
     "text": [
      "Index(['formatteddisplayname', 'email', 'npi', 'user region',\n",
      "       'associationtype', 'rolename', 'actionperformed', 'actiondetails',\n",
      "       'auditdate', 'casestatus', 'audittype', 'facility state', 'status',\n",
      "       'organizationname', 'city'],\n",
      "      dtype='object')\n"
     ]
    }
   ],
   "source": [
    "# Encoding categorical variables using LabelEncoder \n",
    "categorical_cols = X_test.select_dtypes(include=['object']).columns\n",
    "print(categorical_cols)\n",
    "for col in categorical_cols:\n",
    "    le = LabelEncoder()\n",
    "    X_test[col] = le.fit_transform(X_test[col])"
   ]
  },
  {
   "cell_type": "code",
   "execution_count": 20,
   "id": "56e4d418",
   "metadata": {},
   "outputs": [],
   "source": [
    "y_pred = rf_model.predict(X_test)"
   ]
  },
  {
   "cell_type": "code",
   "execution_count": 21,
   "id": "b1909ffb",
   "metadata": {},
   "outputs": [
    {
     "name": "stdout",
     "output_type": "stream",
     "text": [
      "              precision    recall  f1-score   support\n",
      "\n",
      "           0       0.87      1.00      0.93       216\n",
      "           1       1.00      0.77      0.87       144\n",
      "\n",
      "    accuracy                           0.91       360\n",
      "   macro avg       0.93      0.89      0.90       360\n",
      "weighted avg       0.92      0.91      0.91       360\n",
      "\n"
     ]
    }
   ],
   "source": [
    "print(classification_report(y_test,y_pred))"
   ]
  },
  {
   "cell_type": "code",
   "execution_count": 33,
   "id": "acd82505",
   "metadata": {},
   "outputs": [],
   "source": [
    "# Instantiate Isolation Forest with expected contamination rate same as fraud proportion in training set\n",
    "iso_forest = IsolationForest(contamination=0.3, random_state=42)\n",
    "iso_forest.fit(X_train)\n",
    "\n",
    "# Predict anomalies on test set (-1 means anomaly, 1 means normal)\n",
    "preds = iso_forest.predict(X_test)"
   ]
  },
  {
   "cell_type": "code",
   "execution_count": 34,
   "id": "1df6c1b5",
   "metadata": {},
   "outputs": [
    {
     "name": "stdout",
     "output_type": "stream",
     "text": [
      "Accuracy: 0.75\n",
      "Classification Report:\n",
      "              precision    recall  f1-score   support\n",
      "\n",
      "           0       0.80      0.78      0.79       216\n",
      "           1       0.68      0.70      0.69       144\n",
      "\n",
      "    accuracy                           0.75       360\n",
      "   macro avg       0.74      0.74      0.74       360\n",
      "weighted avg       0.75      0.75      0.75       360\n",
      "\n"
     ]
    }
   ],
   "source": [
    "# Convert predictions: anomaly (-1) to 1 (fraud), normal (1) to 0 (non-fraud)\n",
    "pred_labels = [1 if p == -1 else 0 for p in preds]\n",
    "\n",
    "# Evaluate the predictions\n",
    "accuracy = accuracy_score(y_test, pred_labels)\n",
    "print(f'Accuracy: {accuracy:.2f}')\n",
    "print('Classification Report:')\n",
    "print(classification_report(y_test, pred_labels))"
   ]
  }
 ],
 "metadata": {
  "kernelspec": {
   "display_name": "Python 3",
   "language": "python",
   "name": "python3"
  },
  "language_info": {
   "codemirror_mode": {
    "name": "ipython",
    "version": 3
   },
   "file_extension": ".py",
   "mimetype": "text/x-python",
   "name": "python",
   "nbconvert_exporter": "python",
   "pygments_lexer": "ipython3",
   "version": "3.11.2"
  }
 },
 "nbformat": 4,
 "nbformat_minor": 5
}
